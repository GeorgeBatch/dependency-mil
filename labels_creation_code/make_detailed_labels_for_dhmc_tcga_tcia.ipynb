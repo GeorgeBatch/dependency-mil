{
 "cells": [
  {
   "attachments": {},
   "cell_type": "markdown",
   "metadata": {},
   "source": [
    "# Set-up"
   ]
  },
  {
   "attachments": {},
   "cell_type": "markdown",
   "metadata": {},
   "source": [
    "## Modules"
   ]
  },
  {
   "cell_type": "code",
   "execution_count": null,
   "metadata": {
    "ExecuteTime": {
     "end_time": "2024-03-07T16:39:48.743042Z",
     "start_time": "2024-03-07T16:39:47.941860Z"
    }
   },
   "outputs": [],
   "source": [
    "import os\n",
    "import typing as tp\n",
    "from functools import partial\n",
    "\n",
    "import numpy as np\n",
    "import pandas as pd\n",
    "\n",
    "def get_default_na_values(exclude=None):\n",
    "    # list used by pandas to detect missing values: https://pandas.pydata.org/docs/reference/api/pandas.read_csv.html\n",
    "    default_na_values = [\"\", \"#N/A\", \"#N/A N/A\", \"#NA\", \"-1.#IND\", \"-1.#QNAN\", \"-NaN\", \"-nan\", \"1.#IND\", \"1.#QNAN\", \"<NA>\", \"N/A\", \"NA\", \"NULL\", \"NaN\", \"None\", \"n/a\", \"nan\", \"null \", \"null\"]\n",
    "    if exclude:\n",
    "        return [value for value in default_na_values if value not in exclude]\n",
    "    return default_na_values\n",
    "\n",
    "# Specify the values to exclude from the default NaN values list\n",
    "EXCLUDE = ['N/A']\n",
    "\n",
    "# Get the modified list of NaN values\n",
    "CUSTOM_NA_VALUES = get_default_na_values(exclude=EXCLUDE)\n",
    "\n",
    "RANDOM_STATE = 42"
   ]
  },
  {
   "cell_type": "code",
   "execution_count": null,
   "metadata": {
    "ExecuteTime": {
     "end_time": "2024-03-07T16:39:50.174608Z",
     "start_time": "2024-03-07T16:39:48.743849Z"
    }
   },
   "outputs": [],
   "source": [
    "import sys\n",
    "\n",
    "sys.path.insert(0, '..')\n",
    "\n",
    "from source.stratified_patient_split import split_dataset_by_patient\n",
    "\n",
    "sys.path.insert(0, './labels_creation_code')"
   ]
  },
  {
   "attachments": {},
   "cell_type": "markdown",
   "metadata": {},
   "source": [
    "## Directories"
   ]
  },
  {
   "cell_type": "code",
   "execution_count": null,
   "metadata": {
    "ExecuteTime": {
     "end_time": "2024-03-07T16:39:50.178667Z",
     "start_time": "2024-03-07T16:39:50.175583Z"
    }
   },
   "outputs": [],
   "source": [
    "labels_dir = '../labels'\n",
    "\n",
    "dummy_label_files_dir = f'{labels_dir}/dummy-label-files'\n",
    "os.listdir(dummy_label_files_dir)\n",
    "\n",
    "experiment_label_files_dir = f'{labels_dir}/experiment-label-files'\n",
    "os.makedirs(experiment_label_files_dir, exist_ok=True)\n",
    "\n",
    "source_files_for_labels_dir = f'{labels_dir}/source_copies_for_label_files'"
   ]
  },
  {
   "cell_type": "markdown",
   "metadata": {},
   "source": [
    "## Constants"
   ]
  },
  {
   "cell_type": "code",
   "execution_count": null,
   "metadata": {
    "ExecuteTime": {
     "end_time": "2024-03-07T16:39:50.181684Z",
     "start_time": "2024-03-07T16:39:50.177942Z"
    },
    "collapsed": false
   },
   "outputs": [],
   "source": [
    "CHECK_ALL_FILES_PRESENT = False"
   ]
  },
  {
   "cell_type": "code",
   "execution_count": null,
   "metadata": {
    "ExecuteTime": {
     "end_time": "2024-03-07T16:39:50.185072Z",
     "start_time": "2024-03-07T16:39:50.182116Z"
    }
   },
   "outputs": [],
   "source": [
    "LUNG_CANCER_MAIN_TYPES = [\"LUAD\", \"LUSC\", \"Benign\", \"OtherCancer\"]\n",
    "LUNG_CANCER_LUAD_LUSC_BENIGN = [\"LUAD\", \"LUSC\", \"Benign\"]\n",
    "LUNG_CANCER_MAIN_TYPES_2_IDENTIFYING_STRINGS = {\n",
    "    \"LUAD\": \"adenoca\",\n",
    "    \"LUSC\": \"squamous cell\",\n",
    "    \"Benign\": \"benign\",\n",
    "}\n",
    "# get index of the type in LUNG_CANCER_MAIN_TYPES_2_IDENTIFYING_STRINGS but not in the list LUNG_CANCER_MAIN_TYPES\n",
    "\n",
    "\n",
    "ADENOCARCINOMA_MAIN_PATTERNS = sorted([\"acinar\", \"lepidic\", \"micropapillary\", \"papillary\", \"solid\"])\n",
    "ADENOCARCINOMA_MAIN_PATTERNS_2_LABEL_NAMES =  {\n",
    "    pattern: f\"LUAD_{pattern}\"\n",
    "    for pattern in ADENOCARCINOMA_MAIN_PATTERNS\n",
    "}\n",
    "\n",
    "UNKNOWN_CONSTANT = -1\n",
    "PREDOMINANT_CONSTANT = 2"
   ]
  },
  {
   "cell_type": "markdown",
   "metadata": {},
   "source": [
    "## Functions"
   ]
  },
  {
   "cell_type": "code",
   "execution_count": null,
   "metadata": {
    "ExecuteTime": {
     "end_time": "2024-03-07T16:39:50.191097Z",
     "start_time": "2024-03-07T16:39:50.186177Z"
    }
   },
   "outputs": [],
   "source": [
    "def predominant_pattern_is_in_all_patterns(row, predominant_pattern_col_name='adenocarcinomaPredominantPattern', all_patterns_col_name='adenocarcinoma-All-Patterns-Including-Predominant', ignore_values=['unknown', 'NotApplicable']):\n",
    "    \"\"\"\n",
    "    Usage:  ouh_slides_with_subtyping_df.apply(\n",
    "                partial(predominant_pattern_is_in_all_patterns, predominant_pattern_col_name='adenocarcinomaPredominantPattern', all_patterns_col_name='adenocarcinoma-All-Patterns-Including-Predominant'),\n",
    "                axis=1\n",
    "            )\n",
    "    axis=1 is used to apply the function to each row as a whole\n",
    "    \"\"\"\n",
    "    all_patterns = row[all_patterns_col_name].split('-')\n",
    "    predominant_pattern = row[predominant_pattern_col_name]\n",
    "    # returns true if predominant pattern is one of the ignore_values or if it is in the all patterns\n",
    "    return (predominant_pattern in ignore_values) or (predominant_pattern in all_patterns)\n",
    "\n",
    "def extract_cancer_subtype_presence(s: str):\n",
    "    subtype_presence = [0 for _ in range(len(LUNG_CANCER_MAIN_TYPES))]\n",
    "    \n",
    "    total_sum = 0\n",
    "    for subtype, subtype_str in LUNG_CANCER_MAIN_TYPES_2_IDENTIFYING_STRINGS.items():\n",
    "        if subtype_str in s.lower():\n",
    "            subtype_presence[LUNG_CANCER_MAIN_TYPES.index(subtype)] = 1\n",
    "            total_sum += 1\n",
    "    \n",
    "    if total_sum == 0:\n",
    "        subtype_presence[-1] = 1\n",
    "\n",
    "    return subtype_presence\n",
    "\n",
    "def extract_adenocarcinoma_pattern_presence(s: str):\n",
    "    s_list = s.split('-')\n",
    "    pattern_presence = []\n",
    "\n",
    "    for pattern in ADENOCARCINOMA_MAIN_PATTERNS:\n",
    "        if pattern in s_list:\n",
    "            pattern_presence.append(1)\n",
    "        else:\n",
    "            pattern_presence.append(0)\n",
    "    \n",
    "    return pattern_presence"
   ]
  },
  {
   "attachments": {},
   "cell_type": "markdown",
   "metadata": {},
   "source": [
    "# DHMC"
   ]
  },
  {
   "attachments": {},
   "cell_type": "markdown",
   "metadata": {},
   "source": [
    "## DHMC Adenocarcinoma patterns"
   ]
  },
  {
   "cell_type": "code",
   "execution_count": null,
   "metadata": {
    "ExecuteTime": {
     "end_time": "2024-03-07T16:39:50.194677Z",
     "start_time": "2024-03-07T16:39:50.189201Z"
    }
   },
   "outputs": [],
   "source": [
    "os.listdir(dummy_label_files_dir)"
   ]
  },
  {
   "cell_type": "code",
   "execution_count": null,
   "metadata": {
    "ExecuteTime": {
     "end_time": "2024-03-07T16:39:50.231111Z",
     "start_time": "2024-03-07T16:39:50.194724Z"
    }
   },
   "outputs": [],
   "source": [
    "dhmc_20x = pd.read_csv(f'{dummy_label_files_dir}/DHMC_20x.csv')\n",
    "dhmc_40x = pd.read_csv(f'{dummy_label_files_dir}/DHMC_40x.csv')\n",
    "\n",
    "dhmc_all = pd.concat([dhmc_20x, dhmc_40x])\n",
    "display(dhmc_all)"
   ]
  },
  {
   "cell_type": "code",
   "execution_count": null,
   "metadata": {
    "ExecuteTime": {
     "end_time": "2024-03-07T16:39:50.232845Z",
     "start_time": "2024-03-07T16:39:50.212030Z"
    }
   },
   "outputs": [],
   "source": [
    "dhmc_metadata_df = pd.read_csv(f'{source_files_for_labels_dir}/DHMC_MetaData_Release_1.0.csv')\n",
    "dhmc_metadata_df['wsi_id'] = dhmc_metadata_df['File Name'].map(lambda x: x.split('.')[0])\n",
    "dhmc_metadata_df\n"
   ]
  },
  {
   "cell_type": "code",
   "execution_count": null,
   "metadata": {
    "ExecuteTime": {
     "end_time": "2024-03-07T16:39:50.260314Z",
     "start_time": "2024-03-07T16:39:50.224336Z"
    }
   },
   "outputs": [],
   "source": [
    "temp_df = dhmc_all.copy()\n",
    "temp_df['wsi_id'] = temp_df['features_csv_file_path'].map(lambda x: x.split('/')[-1].split('.')[0])\n",
    "dhmc_detailed_labels = temp_df.merge(dhmc_metadata_df, on='wsi_id', how='inner')[\n",
    "    ['features_csv_file_path', 'h5_file_path', 'pt_file_path', 'wsi_id', 'Class']]\n",
    "dhmc_detailed_labels[\"source\"] = \"DHMC\"\n",
    "\n",
    "dhmc_detailed_labels['LUAD'] = 1\n",
    "dhmc_detailed_labels['LUSC'] = 0\n",
    "dhmc_detailed_labels['Benign'] = 0\n",
    "# dhmc_detailed_labels['OtherCancer'] = 0\n",
    "\n",
    "dhmc_detailed_labels = pd.get_dummies(\n",
    "    dhmc_detailed_labels,\n",
    "    columns=['Class'], prefix=\"LUAD\",\n",
    "    dtype=int)\n",
    "dhmc_detailed_labels[dhmc_detailed_labels[ADENOCARCINOMA_MAIN_PATTERNS_2_LABEL_NAMES.values()] == 1] = PREDOMINANT_CONSTANT\n",
    "dhmc_detailed_labels[dhmc_detailed_labels[ADENOCARCINOMA_MAIN_PATTERNS_2_LABEL_NAMES.values()] == 0] = UNKNOWN_CONSTANT\n",
    "\n",
    "dhmc_detailed_labels.rename(columns={'wsi_id': 'patient_id'}, inplace=True)\n",
    "display(dhmc_detailed_labels)"
   ]
  },
  {
   "cell_type": "code",
   "execution_count": null,
   "metadata": {
    "ExecuteTime": {
     "end_time": "2024-03-07T16:39:50.262315Z",
     "start_time": "2024-03-07T16:39:50.238554Z"
    }
   },
   "outputs": [],
   "source": [
    "print(\"Number of slides with cancer pattern:\")\n",
    "display(dhmc_detailed_labels[LUNG_CANCER_LUAD_LUSC_BENIGN].sum(axis=0))\n",
    "\n",
    "assert len(dhmc_detailed_labels) == dhmc_detailed_labels[LUNG_CANCER_LUAD_LUSC_BENIGN].sum().sum(), \"There might be slides with 2 or more cancer types\"\n",
    "\n",
    "print(\"Number of slides with each class present:\")\n",
    "display((dhmc_detailed_labels[LUNG_CANCER_LUAD_LUSC_BENIGN + list(ADENOCARCINOMA_MAIN_PATTERNS_2_LABEL_NAMES.values())] >= 1).sum())\n",
    "\n",
    "print(\"Number of slides with predominant patterns\")\n",
    "display((dhmc_detailed_labels[ADENOCARCINOMA_MAIN_PATTERNS_2_LABEL_NAMES.values()] == PREDOMINANT_CONSTANT).sum())"
   ]
  },
  {
   "cell_type": "code",
   "execution_count": null,
   "metadata": {
    "ExecuteTime": {
     "end_time": "2024-03-07T16:39:50.301403Z",
     "start_time": "2024-03-07T16:39:50.244877Z"
    }
   },
   "outputs": [],
   "source": [
    "dhmc_detailed_labels.to_csv(f'{experiment_label_files_dir}/DETAILED_DHMC_LUAD_LUSC_BENIGN.csv', index=False)"
   ]
  },
  {
   "attachments": {},
   "cell_type": "markdown",
   "metadata": {},
   "source": [
    "# TCGA"
   ]
  },
  {
   "cell_type": "markdown",
   "metadata": {},
   "source": [
    "## Make All TCGA labels"
   ]
  },
  {
   "cell_type": "code",
   "execution_count": null,
   "metadata": {
    "ExecuteTime": {
     "end_time": "2024-03-07T16:39:50.338663Z",
     "start_time": "2024-03-07T16:39:50.251958Z"
    }
   },
   "outputs": [],
   "source": [
    "tcga_info_file_df = pd.read_csv(f\"{source_files_for_labels_dir}/tcga_classes_extended_info.csv\")\n",
    "display(tcga_info_file_df)\n",
    "tcga_dsmil_labels_df = pd.read_csv(f\"{dummy_label_files_dir}/TCGA-lung-ms.csv\")\n",
    "tcga_dsmil_labels_df[\"source\"] = \"TCGA\"\n",
    "\n",
    "tcga_dsmil_labels_df['LUAD'] = 0\n",
    "tcga_dsmil_labels_df['LUSC'] = 0\n",
    "tcga_dsmil_labels_df['Benign'] = 0\n",
    "# tcga_dsmil_labels_df['OtherCancer'] = 0\n",
    "\n",
    "tcga_detailed_labels_df = tcga_dsmil_labels_df.copy()\n",
    "\n",
    "tcga_detailed_labels_df.loc[tcga_detailed_labels_df[\"label\"] == 0, \"LUAD\"] = 1\n",
    "tcga_detailed_labels_df.loc[tcga_detailed_labels_df[\"label\"] == 1, \"LUSC\"] = 1\n",
    "tcga_detailed_labels_df.drop(columns=[\"label\"], inplace=True)\n",
    "\n",
    "# We know that all TCGA slides are LUAD or LUSC, so we can initialise all adenocarcinoma patterns to 0 for all slides\n",
    "# We do not know which patterns of adenocarcinoma are present on LUAD slides - we will set them to UNKNOWN_CONSTANT\n",
    "for pattern_label_name in ADENOCARCINOMA_MAIN_PATTERNS_2_LABEL_NAMES.values():\n",
    "    tcga_detailed_labels_df[pattern_label_name] = 0\n",
    "    tcga_detailed_labels_df.loc[(tcga_detailed_labels_df[\"LUAD\"] == 1), pattern_label_name] = UNKNOWN_CONSTANT\n",
    "\n",
    "def extract_tcga_patient_id_from_file_path_str(s: str):\n",
    "    wsi_file_name = os.path.basename(s)\n",
    "    patient_id = wsi_file_name[:12]\n",
    "    return patient_id\n",
    "\n",
    "\n",
    "tcga_detailed_labels_df[\"patient_id\"] = tcga_detailed_labels_df['features_csv_file_path'].apply(extract_tcga_patient_id_from_file_path_str)\n",
    "tcga_detailed_labels_df = tcga_detailed_labels_df[dhmc_detailed_labels.columns]\n",
    "tcga_detailed_labels_df"
   ]
  },
  {
   "cell_type": "code",
   "execution_count": null,
   "metadata": {
    "ExecuteTime": {
     "end_time": "2024-03-07T16:39:50.398197Z",
     "start_time": "2024-03-07T16:39:50.278030Z"
    }
   },
   "outputs": [],
   "source": [
    "tcga_detailed_labels_df.LUAD.sum(), tcga_detailed_labels_df.LUSC.sum()"
   ]
  },
  {
   "cell_type": "code",
   "execution_count": null,
   "metadata": {
    "ExecuteTime": {
     "end_time": "2024-03-07T16:39:50.413293Z",
     "start_time": "2024-03-07T16:39:50.280493Z"
    }
   },
   "outputs": [],
   "source": [
    "tcga_detailed_labels_df[tcga_detailed_labels_df[\"LUAD\"] == 1][\"patient_id\"].nunique()"
   ]
  },
  {
   "cell_type": "code",
   "execution_count": null,
   "metadata": {
    "ExecuteTime": {
     "end_time": "2024-03-07T16:39:50.414894Z",
     "start_time": "2024-03-07T16:39:50.285388Z"
    }
   },
   "outputs": [],
   "source": [
    "print(\"Number of slides with cancer pattern:\")\n",
    "display(tcga_detailed_labels_df[LUNG_CANCER_LUAD_LUSC_BENIGN].sum(axis=0))\n",
    "\n",
    "assert len(tcga_detailed_labels_df) == tcga_detailed_labels_df[LUNG_CANCER_LUAD_LUSC_BENIGN].sum().sum(), \"There might be slides with 2 or more cancer types\"\n",
    "\n",
    "print(\"Number of slides with each class present:\")\n",
    "display((tcga_detailed_labels_df[LUNG_CANCER_LUAD_LUSC_BENIGN + list(ADENOCARCINOMA_MAIN_PATTERNS_2_LABEL_NAMES.values())] >= 1).sum())\n",
    "\n",
    "print(\"Number of slides with predominant patterns\")\n",
    "display((tcga_detailed_labels_df[ADENOCARCINOMA_MAIN_PATTERNS_2_LABEL_NAMES.values()] == PREDOMINANT_CONSTANT).sum())"
   ]
  },
  {
   "cell_type": "code",
   "execution_count": null,
   "metadata": {
    "ExecuteTime": {
     "end_time": "2024-03-07T16:39:50.418272Z",
     "start_time": "2024-03-07T16:39:50.300490Z"
    }
   },
   "outputs": [],
   "source": [
    "assert set(tcga_detailed_labels_df.columns) == set(dhmc_detailed_labels.columns)\n",
    "tcga_detailed_labels_df.to_csv(f'{experiment_label_files_dir}/DETAILED_TCGA_LUAD_LUSC_BENIGN.csv', index=False)"
   ]
  },
  {
   "cell_type": "markdown",
   "metadata": {},
   "source": [
    "## Split into Train and Test"
   ]
  },
  {
   "cell_type": "code",
   "execution_count": null,
   "metadata": {
    "ExecuteTime": {
     "end_time": "2024-03-07T16:39:50.425361Z",
     "start_time": "2024-03-07T16:39:50.308674Z"
    }
   },
   "outputs": [],
   "source": [
    "def extract_tcga_slide_id_from_file_path_str(s: str):\n",
    "    wsi_file_name = os.path.basename(s)\n",
    "    slide_id = wsi_file_name[:23]\n",
    "    return slide_id\n",
    "\n",
    "tcga_detailed_labels_df = pd.read_csv(f'{experiment_label_files_dir}/DETAILED_TCGA_LUAD_LUSC_BENIGN.csv')\n",
    "display(tcga_detailed_labels_df)\n",
    "\n",
    "tcga_detailed_labels_df[\"features_csv_file_path\"].apply(extract_tcga_slide_id_from_file_path_str)"
   ]
  },
  {
   "cell_type": "code",
   "execution_count": null,
   "metadata": {
    "ExecuteTime": {
     "end_time": "2024-03-07T16:39:50.426928Z",
     "start_time": "2024-03-07T16:39:50.321486Z"
    }
   },
   "outputs": [],
   "source": [
    "tcga_dsmil_test_set = pd.read_csv(f\"{source_files_for_labels_dir}/tcga_dsmil_test_ids.csv\")\n",
    "tcga_dsmil_test_set.columns = [\"slide_id\", \"label\"]\n",
    "tcga_dsmil_test_set\n",
    "\n",
    "# check that all of these slide ids from the test set file are present as slide ids in the tcga_detailed_labels_df\n",
    "assert tcga_dsmil_test_set[\"slide_id\"].isin(tcga_detailed_labels_df[\"features_csv_file_path\"].apply(extract_tcga_slide_id_from_file_path_str)).all()"
   ]
  },
  {
   "cell_type": "code",
   "execution_count": null,
   "metadata": {
    "ExecuteTime": {
     "end_time": "2024-03-07T16:39:50.447133Z",
     "start_time": "2024-03-07T16:39:50.330469Z"
    }
   },
   "outputs": [],
   "source": [
    "# create a bool mask for test slide ids\n",
    "in_test_condition = tcga_detailed_labels_df[\"features_csv_file_path\"].apply(extract_tcga_slide_id_from_file_path_str).isin(tcga_dsmil_test_set[\"slide_id\"])\n",
    "\n",
    "# make test df\n",
    "tcga_detailed_labels_test_df = tcga_detailed_labels_df[in_test_condition].reset_index(drop=True)\n",
    "display(tcga_detailed_labels_test_df.head())\n",
    "\n",
    "print(\"Number of slides with cancer pattern:\")\n",
    "display(tcga_detailed_labels_test_df[LUNG_CANCER_LUAD_LUSC_BENIGN].sum(axis=0))\n",
    "\n",
    "assert len(tcga_detailed_labels_test_df) == tcga_detailed_labels_test_df[LUNG_CANCER_LUAD_LUSC_BENIGN].sum().sum(), \"There might be slides with 2 or more cancer types\"\n",
    "\n",
    "print(\"Number of slides with each class present:\")\n",
    "display((tcga_detailed_labels_test_df[LUNG_CANCER_LUAD_LUSC_BENIGN + list(ADENOCARCINOMA_MAIN_PATTERNS_2_LABEL_NAMES.values())] >= 1).sum())\n",
    "\n",
    "print(\"Number of slides with predominant patterns\")\n",
    "display((tcga_detailed_labels_test_df[ADENOCARCINOMA_MAIN_PATTERNS_2_LABEL_NAMES.values()] == PREDOMINANT_CONSTANT).sum())\n",
    "\n",
    "\n",
    "# make train df\n",
    "tcga_detailed_labels_trainval_df = tcga_detailed_labels_df[~in_test_condition].reset_index(drop=True)\n",
    "display(tcga_detailed_labels_trainval_df.head())\n",
    "\n",
    "print(\"Number of slides with cancer pattern:\")\n",
    "display(tcga_detailed_labels_trainval_df[LUNG_CANCER_LUAD_LUSC_BENIGN].sum(axis=0))\n",
    "\n",
    "assert len(tcga_detailed_labels_trainval_df) == tcga_detailed_labels_trainval_df[LUNG_CANCER_LUAD_LUSC_BENIGN].sum().sum(), \"There might be slides with 2 or more cancer types\"\n",
    "\n",
    "print(\"Number of slides with each class present:\")\n",
    "display((tcga_detailed_labels_trainval_df[LUNG_CANCER_LUAD_LUSC_BENIGN + list(ADENOCARCINOMA_MAIN_PATTERNS_2_LABEL_NAMES.values())] >= 1).sum())\n",
    "\n",
    "print(\"Number of slides with predominant patterns\")\n",
    "display((tcga_detailed_labels_trainval_df[ADENOCARCINOMA_MAIN_PATTERNS_2_LABEL_NAMES.values()] == PREDOMINANT_CONSTANT).sum())"
   ]
  },
  {
   "cell_type": "code",
   "execution_count": null,
   "metadata": {
    "ExecuteTime": {
     "end_time": "2024-03-07T16:39:50.448707Z",
     "start_time": "2024-03-07T16:39:50.345515Z"
    }
   },
   "outputs": [],
   "source": [
    "# check the sets of patients are different\n",
    "assert set(tcga_detailed_labels_trainval_df.patient_id).intersection(set(tcga_detailed_labels_test_df)) == set()\n",
    "\n",
    "# save files - only after assert passes\n",
    "tcga_detailed_labels_test_df.to_csv(f'{experiment_label_files_dir}/DETAILED_TCGA_TEST_LUAD_LUSC_BENIGN.csv', index=False)\n",
    "tcga_detailed_labels_trainval_df.to_csv(f'{experiment_label_files_dir}/DETAILED_TCGA_TRAINVAL_LUAD_LUSC_BENIGN.csv', index=False)"
   ]
  },
  {
   "cell_type": "markdown",
   "metadata": {},
   "source": [
    "# TCIA-CPTAC"
   ]
  },
  {
   "cell_type": "markdown",
   "metadata": {},
   "source": [
    "## Files List"
   ]
  },
  {
   "cell_type": "code",
   "execution_count": null,
   "metadata": {
    "ExecuteTime": {
     "end_time": "2024-03-07T16:50:59.052634Z",
     "start_time": "2024-03-07T16:50:59.002819Z"
    }
   },
   "outputs": [],
   "source": [
    "tcia_cptac_files_list = pd.read_csv(\n",
    "    f\"{source_files_for_labels_dir}/tcia_cptac_md5sum_hashes.txt\",\n",
    "    sep=\"  \",\n",
    "    header=None)\n",
    "tcia_cptac_files_list.columns = [\"md5sum\", \"file_path\"]\n",
    "\n",
    "def split_path_into_class_and_slide_id(s: str):\n",
    "    components_list = s.split('/')\n",
    "    slide_id = components_list[-1].split('.')[0]\n",
    "    class_name = components_list[-2]\n",
    "    return class_name, slide_id\n",
    "\n",
    "tcia_cptac_files_list[\"class_name\"], tcia_cptac_files_list[\"Slide_ID\"]= zip(*tcia_cptac_files_list[\"file_path\"].apply(split_path_into_class_and_slide_id))\n",
    "display(tcia_cptac_files_list)"
   ]
  },
  {
   "cell_type": "markdown",
   "metadata": {},
   "source": [
    "## Cohort File"
   ]
  },
  {
   "cell_type": "code",
   "execution_count": null,
   "metadata": {
    "ExecuteTime": {
     "end_time": "2024-03-07T16:51:13.934468Z",
     "start_time": "2024-03-07T16:51:13.834065Z"
    }
   },
   "outputs": [],
   "source": [
    "tcia_cptac_luad_lusc_cohort_df = pd.read_csv(f\"{labels_dir}/source_copies_for_label_files/tcia_cptac_luad_lusc_cohort.csv\", na_values=CUSTOM_NA_VALUES, keep_default_na=False)\n",
    "print(tcia_cptac_luad_lusc_cohort_df.columns)\n",
    "\n",
    "display(tcia_cptac_luad_lusc_cohort_df.head())\n",
    "display(tcia_cptac_luad_lusc_cohort_df.describe())\n",
    "display(tcia_cptac_luad_lusc_cohort_df.info())\n",
    "\n",
    "a = set(tcia_cptac_luad_lusc_cohort_df[tcia_cptac_luad_lusc_cohort_df[\"Specimen_Type\"] == \"normal_tissue\"][\"Slide_ID\"])\n",
    "b = set(tcia_cptac_luad_lusc_cohort_df[tcia_cptac_luad_lusc_cohort_df[\"Normal_Free_of_Tumor\"] == \"Yes\"][\"Slide_ID\"])\n",
    "assert b.issubset(a)\n",
    "# drop slides with Slide_ID in a but not in b\n",
    "print(f\"drop {len(a-b)} slides with 'Specimen_Type' == 'normal_tissue' but with 'Normal_Free_of_Tumor' != 'Yes'\")\n",
    "tcia_cptac_luad_lusc_cohort_df = tcia_cptac_luad_lusc_cohort_df[~tcia_cptac_luad_lusc_cohort_df[\"Slide_ID\"].isin(a-b)].reset_index(drop=True)\n",
    "\n",
    "# we should drop unacceptable slides with Tumor_Segment_Acceptable value \"No\"\n",
    "print(f\"drop {(tcia_cptac_luad_lusc_cohort_df['Tumor_Segment_Acceptable'] == 'No').sum()} slides with 'Tumor_Segment_Acceptable' == 'No'\")\n",
    "tcia_cptac_luad_lusc_cohort_df = tcia_cptac_luad_lusc_cohort_df[tcia_cptac_luad_lusc_cohort_df[\"Tumor_Segment_Acceptable\"] != \"No\"].reset_index(drop=True)\n",
    "\n",
    "# we should separate between the case and the slide level reported histological type\n",
    "tcia_cptac_luad_lusc_cohort_df[\"Case_Tumor_Histological_Type\"] = tcia_cptac_luad_lusc_cohort_df[\"Tumor_Histological_Type\"].str.strip(' ')\n",
    "tcia_cptac_luad_lusc_cohort_df.drop(columns=[\"Tumor_Histological_Type\"], inplace=True)\n",
    "\n",
    "def get_slide_tumor_histological_type(\n",
    "    row,\n",
    "    case_tumor_histological_type_col_name=\"Case_Tumor_Histological_Type\",\n",
    "    specimen_type_col_name=\"Specimen_Type\",\n",
    "    benign_specimen_type=\"normal_tissue\"\n",
    "    ):\n",
    "    if row[specimen_type_col_name] == benign_specimen_type: \n",
    "        return \"Benign\"\n",
    "    else:\n",
    "        return row[case_tumor_histological_type_col_name]\n",
    "\n",
    "tcia_cptac_luad_lusc_cohort_df[\"Slide_Tumor_Histological_Type\"] = tcia_cptac_luad_lusc_cohort_df.apply(\n",
    "    partial(get_slide_tumor_histological_type, case_tumor_histological_type_col_name='Case_Tumor_Histological_Type', specimen_type_col_name=\"Specimen_Type\", benign_specimen_type=\"normal_tissue\"),\n",
    "    axis=1\n",
    "    )\n",
    "    \n",
    "\n",
    "display(tcia_cptac_luad_lusc_cohort_df.head())\n",
    "display(tcia_cptac_luad_lusc_cohort_df.describe())\n",
    "display(tcia_cptac_luad_lusc_cohort_df.info())"
   ]
  },
  {
   "cell_type": "markdown",
   "metadata": {},
   "source": [
    "## Manual Mapping"
   ]
  },
  {
   "cell_type": "code",
   "execution_count": null,
   "metadata": {
    "ExecuteTime": {
     "end_time": "2024-03-07T16:51:21.049009Z",
     "start_time": "2024-03-07T16:51:21.004053Z"
    }
   },
   "outputs": [],
   "source": [
    "tcia_cptac_luad_lusc_mapping_df = pd.read_csv(f\"{source_files_for_labels_dir}/tcia_cptac_string_2_ouh_labels.csv\")\n",
    "display(tcia_cptac_luad_lusc_mapping_df.head())\n",
    "\n",
    "print(tcia_cptac_luad_lusc_mapping_df.isna().sum())\n",
    "\n",
    "# fill missing values with strings\n",
    "tcia_cptac_luad_lusc_mapping_df = tcia_cptac_luad_lusc_mapping_df.fillna(\"\")\n",
    "print(tcia_cptac_luad_lusc_mapping_df.isna().sum())\n",
    "\n",
    "\n",
    "assert tcia_cptac_luad_lusc_mapping_df.apply(\n",
    "        partial(predominant_pattern_is_in_all_patterns, predominant_pattern_col_name='adenocarcinomaPredominantPattern', all_patterns_col_name='adenocarcinoma-All-Patterns-Including-Predominant'),\n",
    "        axis=1\n",
    "    ).all()\n",
    "assert tcia_cptac_luad_lusc_mapping_df.apply(\n",
    "        partial(predominant_pattern_is_in_all_patterns, predominant_pattern_col_name='secondPredominantPattern', all_patterns_col_name='adenocarcinoma-All-Patterns-Including-Predominant'),\n",
    "        axis=1\n",
    "    ).all()\n"
   ]
  },
  {
   "cell_type": "markdown",
   "metadata": {},
   "source": [
    "## Merge: Cohort File + Manual Mapping"
   ]
  },
  {
   "cell_type": "code",
   "execution_count": null,
   "metadata": {
    "ExecuteTime": {
     "end_time": "2024-03-07T16:51:24.806657Z",
     "start_time": "2024-03-07T16:51:24.755892Z"
    }
   },
   "outputs": [],
   "source": [
    "assert set(tcia_cptac_luad_lusc_cohort_df[\"Slide_Tumor_Histological_Type\"]) == set(tcia_cptac_luad_lusc_mapping_df[\"Tumor_Histological_Type\"]), f\"There are missing histological types.  \\\n",
    "    In the mapping file: {set(tcia_cptac_luad_lusc_cohort_df.Slide_Tumor_Histological_Type) - set(tcia_cptac_luad_lusc_mapping_df.Tumor_Histological_Type)}. \\\n",
    "    In the cohort file: {set(tcia_cptac_luad_lusc_mapping_df.Tumor_Histological_Type) - set(tcia_cptac_luad_lusc_cohort_df.Slide_Tumor_Histological_Type)}\"\n",
    "merged_tcia_cptac_cohort_labels_df = tcia_cptac_luad_lusc_cohort_df.merge(\n",
    "    tcia_cptac_luad_lusc_mapping_df,\n",
    "    left_on=\"Slide_Tumor_Histological_Type\",\n",
    "    right_on=\"Tumor_Histological_Type\",\n",
    "    how=\"inner\",\n",
    ")\n",
    "assert len(merged_tcia_cptac_cohort_labels_df) == len(tcia_cptac_luad_lusc_cohort_df)\n",
    "\n",
    "print(merged_tcia_cptac_cohort_labels_df.columns)\n",
    "merged_tcia_cptac_cohort_labels_df.drop(\n",
    "    columns=[\n",
    "        'Radiology',\n",
    "        'Weight',\n",
    "        'Tumor_Site',\n",
    "        'Tumor_Segment_Acceptable', 'Tumor_Percent_Tumor_Nuclei',\n",
    "        'Tumor_Percent_Total_Cellularity', 'Tumor_Percent_Necrosis',\n",
    "        'Genomics',\n",
    "        'Proteomics',\n",
    "        'Genomics_Available',\n",
    "        'GDC_Link',\n",
    "        'Proteomics_Available',\n",
    "        'PDC_Link',\n",
    "        'Gender', 'Age_at_Diagnosis', 'Ethnicity', 'Race', 'Vital_Status',\n",
    "        'Patholgy', 'HasRadiology', 'Pathology',\n",
    "        ],\n",
    "    inplace=True)\n",
    "display(merged_tcia_cptac_cohort_labels_df.head())\n",
    "print(merged_tcia_cptac_cohort_labels_df.shape)"
   ]
  },
  {
   "cell_type": "code",
   "execution_count": null,
   "metadata": {
    "ExecuteTime": {
     "end_time": "2024-03-07T16:51:26.154974Z",
     "start_time": "2024-03-07T16:51:26.129095Z"
    }
   },
   "outputs": [],
   "source": [
    "merged_tcia_cptac_cohort_labels_df.isna().sum()"
   ]
  },
  {
   "cell_type": "markdown",
   "metadata": {},
   "source": [
    "## Subset (merged cohort + manual mapping) with files in files list"
   ]
  },
  {
   "cell_type": "code",
   "execution_count": null,
   "metadata": {
    "ExecuteTime": {
     "end_time": "2024-03-07T16:51:30.609966Z",
     "start_time": "2024-03-07T16:51:30.581680Z"
    }
   },
   "outputs": [],
   "source": [
    "display(tcia_cptac_files_list.head())\n",
    "\n",
    "# slides in cohort that are not present as files\n",
    "print(set(merged_tcia_cptac_cohort_labels_df[\"Slide_ID\"]) - set(tcia_cptac_files_list[\"Slide_ID\"]))"
   ]
  },
  {
   "cell_type": "code",
   "execution_count": null,
   "metadata": {
    "ExecuteTime": {
     "end_time": "2024-03-07T16:51:32.350865Z",
     "start_time": "2024-03-07T16:51:32.010747Z"
    }
   },
   "outputs": [],
   "source": [
    "tcia_cptac_detailed_labels_df = merged_tcia_cptac_cohort_labels_df.merge(\n",
    "    tcia_cptac_files_list,\n",
    "    on=\"Slide_ID\",\n",
    "    how=\"inner\",\n",
    ")\n",
    "assert (tcia_cptac_detailed_labels_df[\"Tumor\"] == tcia_cptac_detailed_labels_df[\"class_name\"]).all()\n",
    "tcia_cptac_detailed_labels_df.drop(columns=[\"class_name\"], inplace=True)\n",
    "\n",
    "# create a column with the path to the csv file with features\n",
    "tcia_cptac_detailed_labels_df[\"features_csv_file_path\"] = tcia_cptac_detailed_labels_df[\"Slide_ID\"].apply(\n",
    "    lambda x: f\"datasets/TCIA-CPTAC/all_classes/{x}.csv\")\n",
    "tcia_cptac_detailed_labels_df[\"h5_file_path\"] = tcia_cptac_detailed_labels_df[\"Slide_ID\"].apply(\n",
    "    lambda x: f\"datasets/TCIA-CPTAC/all_classes/h5_files/{x}.h5\")\n",
    "tcia_cptac_detailed_labels_df[\"pt_file_path\"] = tcia_cptac_detailed_labels_df[\"Slide_ID\"].apply(\n",
    "    lambda x: f\"datasets/TCIA-CPTAC/all_classes/pt_files/{x}.pt\")\n",
    "\n",
    "# record the source of the data\n",
    "tcia_cptac_detailed_labels_df[\"source\"] = \"TCIA-CPTAC\"\n",
    "\n",
    "# apply the function extract_cancer_subtype_presence to the column cancerSubtype            \n",
    "tcia_cptac_detailed_labels_df[LUNG_CANCER_MAIN_TYPES] = \\\n",
    "    tcia_cptac_detailed_labels_df['cancerSubtype'].apply(\n",
    "        lambda x: pd.Series(extract_cancer_subtype_presence(x))\n",
    "    )\n",
    "\n",
    "# apply the function extract_adenocarcinoma_pattern_presence to the column adenocarcinomaAllPatternsIncludingPredominant\n",
    "tcia_cptac_detailed_labels_df[ADENOCARCINOMA_MAIN_PATTERNS] = \\\n",
    "    tcia_cptac_detailed_labels_df['adenocarcinoma-All-Patterns-Including-Predominant'].apply(\n",
    "        lambda x: pd.Series(extract_adenocarcinoma_pattern_presence(x))\n",
    "    )\n",
    "\n",
    "# apply the function extract_adenocarcinoma_pattern_presence to the column adenocarcinomaPredominantPattern\n",
    "tcia_cptac_detailed_labels_df[[f\"adenocarcinomaPredominantPattern_{pattern}\" for pattern in ADENOCARCINOMA_MAIN_PATTERNS]] = \\\n",
    "    tcia_cptac_detailed_labels_df['adenocarcinomaPredominantPattern'].apply(\n",
    "        lambda x: pd.Series(extract_adenocarcinoma_pattern_presence(x))\n",
    "    )\n",
    "\n",
    "# apply the function extract_adenocarcinoma_pattern_presence to the column adenocarcinomaPredominantPattern\n",
    "tcia_cptac_detailed_labels_df[[f\"secondPredominantPattern_{pattern}\" for pattern in ADENOCARCINOMA_MAIN_PATTERNS]] = \\\n",
    "    tcia_cptac_detailed_labels_df['secondPredominantPattern'].apply(\n",
    "        lambda x: pd.Series(extract_adenocarcinoma_pattern_presence(x))\n",
    "    )\n",
    "\n",
    "# add the values of f\"adenocarcinomaPredominantPattern_{pattern}\"\" columns to the corresponding f\"{pattern}\" columns\n",
    "# predominant pattern columns will have 2 to signify that the pattern is present and is predominant\n",
    "for pattern in ADENOCARCINOMA_MAIN_PATTERNS:\n",
    "    tcia_cptac_detailed_labels_df[pattern] += tcia_cptac_detailed_labels_df[f\"adenocarcinomaPredominantPattern_{pattern}\"]\n",
    "    tcia_cptac_detailed_labels_df[pattern] += tcia_cptac_detailed_labels_df[f\"secondPredominantPattern_{pattern}\"]\n",
    "\n",
    "# drop the f\"adenocarcinomaPredominantPattern_{pattern}\" columns as they are not needed anymore\n",
    "tcia_cptac_detailed_labels_df.drop(columns=[f\"adenocarcinomaPredominantPattern_{pattern}\" for pattern in ADENOCARCINOMA_MAIN_PATTERNS], inplace=True)\n",
    "tcia_cptac_detailed_labels_df.drop(columns=[f\"secondPredominantPattern_{pattern}\" for pattern in ADENOCARCINOMA_MAIN_PATTERNS], inplace=True)\n",
    "\n",
    "# for TCIA-CPTAC we only know which patterns are present on LUAD slides, BUT we do not know which patterns are not present on LUAD slides\n",
    "# for all LUAD slides, for all LUAD patterns: substitute all 0 values with UNKNOWN_CONSTANT\n",
    "for pattern in ADENOCARCINOMA_MAIN_PATTERNS:\n",
    "    condition = (tcia_cptac_detailed_labels_df[\"LUAD\"] == 1) & (tcia_cptac_detailed_labels_df[pattern] == 0)\n",
    "    tcia_cptac_detailed_labels_df.loc[condition, pattern] = UNKNOWN_CONSTANT\n",
    "\n",
    "tcia_cptac_detailed_labels_df.rename(mapper=ADENOCARCINOMA_MAIN_PATTERNS_2_LABEL_NAMES, axis=1, inplace=True)\n",
    "display(tcia_cptac_detailed_labels_df.head())\n",
    "print(tcia_cptac_detailed_labels_df.shape)\n",
    "\n",
    "print(\"Number of slides with cancer pattern:\")\n",
    "display(tcia_cptac_detailed_labels_df[LUNG_CANCER_MAIN_TYPES].sum(axis=0))\n",
    "\n",
    "assert len(tcia_cptac_detailed_labels_df) == tcia_cptac_detailed_labels_df[LUNG_CANCER_MAIN_TYPES].sum().sum(), \"There might be slides with 2 or more cancer types\"\n",
    "\n",
    "print(\"Number of slides with each class present:\")\n",
    "display((tcia_cptac_detailed_labels_df[LUNG_CANCER_MAIN_TYPES + list(ADENOCARCINOMA_MAIN_PATTERNS_2_LABEL_NAMES.values())] >= 1).sum())\n",
    "\n",
    "print(\"Number of slides with predominant patterns\")\n",
    "display((tcia_cptac_detailed_labels_df[ADENOCARCINOMA_MAIN_PATTERNS_2_LABEL_NAMES.values()] == PREDOMINANT_CONSTANT).sum())\n",
    "# check that only 0 (absent), 1 (present), 2 (present and predominant) are present in the columns with adenocarcinoma patterns\n",
    "assert tcia_cptac_detailed_labels_df[ADENOCARCINOMA_MAIN_PATTERNS_2_LABEL_NAMES.values()].isin([-1, 0, 1, 2]).all().all()\n",
    "\n",
    "# drop the rest of the columns\n",
    "tcia_cptac_detailed_labels_df = tcia_cptac_detailed_labels_df[[\"features_csv_file_path\", \"h5_file_path\", \"pt_file_path\",\n",
    "                                                               \"Case_ID\", \"source\"] + LUNG_CANCER_MAIN_TYPES + list(ADENOCARCINOMA_MAIN_PATTERNS_2_LABEL_NAMES.values())]\n",
    "tcia_cptac_detailed_labels_df = tcia_cptac_detailed_labels_df.rename(columns={\"Case_ID\": \"patient_id\"})\n",
    "tcia_cptac_detailed_labels_df = tcia_cptac_detailed_labels_df.sort_values(by=\"patient_id\").reset_index(drop=True)\n",
    "display(tcia_cptac_detailed_labels_df.head())\n",
    "\n",
    "# save the result\n",
    "tcia_cptac_detailed_labels_df.to_csv(f'{experiment_label_files_dir}/DETAILED_TCIA-CPTAC_LUAD_LUSC_BENIGN_OTHERCANCER.csv', index=False)"
   ]
  },
  {
   "cell_type": "markdown",
   "metadata": {},
   "source": [
    "## Subset the TCIA-CPTAC dataframe: Do not include \"OtherCancer\""
   ]
  },
  {
   "cell_type": "code",
   "execution_count": null,
   "metadata": {
    "ExecuteTime": {
     "end_time": "2024-03-07T16:39:51.001913Z",
     "start_time": "2024-03-07T16:39:50.757748Z"
    }
   },
   "outputs": [],
   "source": [
    "condition = (tcia_cptac_detailed_labels_df[\"OtherCancer\"] == 0)\n",
    "subset_tcia_cptac_detailed_labels_df = tcia_cptac_detailed_labels_df[condition].copy()\n",
    "subset_tcia_cptac_detailed_labels_df = subset_tcia_cptac_detailed_labels_df.drop(columns=['OtherCancer'])\n",
    "subset_tcia_cptac_detailed_labels_df = subset_tcia_cptac_detailed_labels_df.reset_index(drop=True)\n",
    "print(subset_tcia_cptac_detailed_labels_df[LUNG_CANCER_LUAD_LUSC_BENIGN].sum().sum())\n",
    "assert len(subset_tcia_cptac_detailed_labels_df) == subset_tcia_cptac_detailed_labels_df[LUNG_CANCER_LUAD_LUSC_BENIGN].sum().sum(), \"There might be slides with 2 or more cancer types\"\n",
    "\n",
    "# save the file\n",
    "subset_tcia_cptac_detailed_labels_df.to_csv(f'{experiment_label_files_dir}/DETAILED_TCIA-CPTAC_LUAD_LUSC_BENIGN.csv', index=False)"
   ]
  },
  {
   "cell_type": "markdown",
   "metadata": {},
   "source": [
    "## Train Test Split: 50/50 stratified by (LUAD-LUSC-Benign)"
   ]
  },
  {
   "cell_type": "code",
   "execution_count": null,
   "metadata": {
    "ExecuteTime": {
     "end_time": "2024-03-07T16:39:51.011467Z",
     "start_time": "2024-03-07T16:39:50.770179Z"
    }
   },
   "outputs": [],
   "source": [
    "import numpy as np\n",
    "import pandas as pd\n",
    "subset_tcia_cptac_detailed_labels_df = pd.read_csv(f'{experiment_label_files_dir}/DETAILED_TCIA-CPTAC_LUAD_LUSC_BENIGN.csv')\n",
    "display(subset_tcia_cptac_detailed_labels_df.head())"
   ]
  },
  {
   "cell_type": "code",
   "execution_count": null,
   "metadata": {
    "ExecuteTime": {
     "end_time": "2024-03-07T16:39:51.054931Z",
     "start_time": "2024-03-07T16:39:50.782407Z"
    }
   },
   "outputs": [],
   "source": [
    "GROUPS_COL_NAME = 'patient_id'\n",
    "FEATURES_TO_STRATIFY = ['LUAD', 'LUSC', 'Benign']\n",
    "TCIA_CPTAC_TEST_SIZE = 0.5\n",
    "\n",
    "subset_tcia_cptac_detailed_labels_trainval_df, subset_tcia_cptac_detailed_labels_test_df \\\n",
    "    = split_dataset_by_patient(\n",
    "        subset_tcia_cptac_detailed_labels_df,\n",
    "        groups_col_name=GROUPS_COL_NAME,\n",
    "        feature_col_names=FEATURES_TO_STRATIFY,\n",
    "        test_size=TCIA_CPTAC_TEST_SIZE,\n",
    "        random_state=RANDOM_STATE,\n",
    "        )\n",
    "\n",
    "# check that the patient ids are separate\n",
    "assert set(subset_tcia_cptac_detailed_labels_test_df.patient_id).intersection(set(subset_tcia_cptac_detailed_labels_trainval_df.patient_id)) == set()\n"
   ]
  },
  {
   "cell_type": "code",
   "execution_count": null,
   "metadata": {
    "ExecuteTime": {
     "end_time": "2024-03-07T16:39:51.096232Z",
     "start_time": "2024-03-07T16:39:50.822817Z"
    }
   },
   "outputs": [],
   "source": [
    "display(subset_tcia_cptac_detailed_labels_trainval_df.head())\n",
    "\n",
    "print(\"Number of slides with cancer pattern:\")\n",
    "display(subset_tcia_cptac_detailed_labels_trainval_df[LUNG_CANCER_LUAD_LUSC_BENIGN].sum(axis=0))\n",
    "\n",
    "assert len(subset_tcia_cptac_detailed_labels_trainval_df) == subset_tcia_cptac_detailed_labels_trainval_df[LUNG_CANCER_LUAD_LUSC_BENIGN].sum().sum(), \"There might be slides with 2 or more cancer types\"\n",
    "\n",
    "print(\"Number of slides with each class present:\")\n",
    "display((subset_tcia_cptac_detailed_labels_trainval_df[LUNG_CANCER_LUAD_LUSC_BENIGN + list(ADENOCARCINOMA_MAIN_PATTERNS_2_LABEL_NAMES.values())] >= 1).sum())\n",
    "\n",
    "print(\"Number of slides with predominant patterns\")\n",
    "display((subset_tcia_cptac_detailed_labels_trainval_df[ADENOCARCINOMA_MAIN_PATTERNS_2_LABEL_NAMES.values()] == PREDOMINANT_CONSTANT).sum())"
   ]
  },
  {
   "cell_type": "code",
   "execution_count": null,
   "metadata": {
    "ExecuteTime": {
     "end_time": "2024-03-07T16:39:51.123612Z",
     "start_time": "2024-03-07T16:39:50.834680Z"
    }
   },
   "outputs": [],
   "source": [
    "display(subset_tcia_cptac_detailed_labels_test_df.head())\n",
    "\n",
    "print(\"Number of slides with cancer pattern:\")\n",
    "display(subset_tcia_cptac_detailed_labels_test_df[LUNG_CANCER_LUAD_LUSC_BENIGN].sum(axis=0))\n",
    "\n",
    "assert len(subset_tcia_cptac_detailed_labels_test_df) == subset_tcia_cptac_detailed_labels_test_df[LUNG_CANCER_LUAD_LUSC_BENIGN].sum().sum(), \"There might be slides with 2 or more cancer types\"\n",
    "\n",
    "print(\"Number of slides with each class present:\")\n",
    "display((subset_tcia_cptac_detailed_labels_test_df[LUNG_CANCER_LUAD_LUSC_BENIGN + list(ADENOCARCINOMA_MAIN_PATTERNS_2_LABEL_NAMES.values())] >= 1).sum())\n",
    "\n",
    "print(\"Number of slides with predominant patterns\")\n",
    "display((subset_tcia_cptac_detailed_labels_test_df[ADENOCARCINOMA_MAIN_PATTERNS_2_LABEL_NAMES.values()] == PREDOMINANT_CONSTANT).sum())"
   ]
  },
  {
   "cell_type": "code",
   "execution_count": null,
   "metadata": {
    "ExecuteTime": {
     "end_time": "2024-03-07T16:39:51.212358Z",
     "start_time": "2024-03-07T16:39:50.842588Z"
    }
   },
   "outputs": [],
   "source": [
    "# check that the patient ids are separate\n",
    "assert set(subset_tcia_cptac_detailed_labels_test_df.patient_id).intersection(set(subset_tcia_cptac_detailed_labels_trainval_df.patient_id)) == set()\n",
    "\n",
    "# save the files\n",
    "subset_tcia_cptac_detailed_labels_trainval_df.to_csv(f'{experiment_label_files_dir}/DETAILED_TCIA-CPTAC_TRAINVAL_LUAD_LUSC_BENIGN.csv', index=False)\n",
    "subset_tcia_cptac_detailed_labels_test_df.to_csv(f'{experiment_label_files_dir}/DETAILED_TCIA-CPTAC_TEST_LUAD_LUSC_BENIGN.csv', index=False)"
   ]
  },
  {
   "cell_type": "markdown",
   "metadata": {},
   "source": [
    "# Combined: DHMC + TCGA + TCIA-CPTAC"
   ]
  },
  {
   "cell_type": "markdown",
   "metadata": {},
   "source": [
    "## All together"
   ]
  },
  {
   "cell_type": "code",
   "execution_count": null,
   "metadata": {
    "ExecuteTime": {
     "end_time": "2024-03-07T16:39:51.228297Z",
     "start_time": "2024-03-07T16:39:50.857087Z"
    }
   },
   "outputs": [],
   "source": [
    "combined_detailed_df = pd.concat([dhmc_detailed_labels, tcga_detailed_labels_df, subset_tcia_cptac_detailed_labels_df])\n",
    "combined_detailed_df = combined_detailed_df.reset_index(drop=True)\n",
    "combined_detailed_df"
   ]
  },
  {
   "cell_type": "code",
   "execution_count": null,
   "metadata": {
    "ExecuteTime": {
     "end_time": "2024-03-07T16:39:51.229825Z",
     "start_time": "2024-03-07T16:39:50.866362Z"
    }
   },
   "outputs": [],
   "source": [
    "print(f\"Number of slides from each site:\")\n",
    "display(combined_detailed_df[\"source\"].value_counts())\n",
    "\n",
    "\n",
    "print(\"Number of slides with cancer pattern:\")\n",
    "display(combined_detailed_df[LUNG_CANCER_LUAD_LUSC_BENIGN].sum(axis=0))\n",
    "\n",
    "assert len(combined_detailed_df) <= combined_detailed_df[LUNG_CANCER_LUAD_LUSC_BENIGN].sum().sum()\n",
    "if len(combined_detailed_df) < combined_detailed_df[LUNG_CANCER_LUAD_LUSC_BENIGN].sum().sum():\n",
    "    print(f\"There are {combined_detailed_df[LUNG_CANCER_LUAD_LUSC_BENIGN].sum().sum() - len(combined_detailed_df)} slides with 2 or more cancer types\")\n",
    "    \n",
    "\n",
    "print(\"Number of slides with each class present:\")\n",
    "display((combined_detailed_df[LUNG_CANCER_LUAD_LUSC_BENIGN + list(ADENOCARCINOMA_MAIN_PATTERNS_2_LABEL_NAMES.values())] >= 1).sum())\n",
    "\n",
    "print(\"Number of slides with predominant patterns\")\n",
    "display((combined_detailed_df[ADENOCARCINOMA_MAIN_PATTERNS_2_LABEL_NAMES.values()] == PREDOMINANT_CONSTANT).sum())"
   ]
  },
  {
   "cell_type": "code",
   "execution_count": null,
   "metadata": {
    "ExecuteTime": {
     "end_time": "2024-03-07T16:39:51.231345Z",
     "start_time": "2024-03-07T16:39:50.874369Z"
    }
   },
   "outputs": [],
   "source": [
    "combined_detailed_df.to_csv(f'{experiment_label_files_dir}/DETAILED_COMBINED_LUAD_LUSC_BENIGN.csv', index=False)"
   ]
  },
  {
   "cell_type": "code",
   "execution_count": null,
   "metadata": {
    "ExecuteTime": {
     "end_time": "2024-03-07T16:39:51.232337Z",
     "start_time": "2024-03-07T16:39:50.890789Z"
    }
   },
   "outputs": [],
   "source": [
    "if CHECK_ALL_FILES_PRESENT:\n",
    "    assert combined_detailed_df[\"features_csv_file_path\"].apply(lambda x: f\"../{x}\").apply(os.path.isfile).all()\n",
    "    print(\"There are no missing csv files with features for slides!\")"
   ]
  },
  {
   "cell_type": "code",
   "execution_count": null,
   "metadata": {
    "ExecuteTime": {
     "end_time": "2024-03-07T16:39:51.239175Z",
     "start_time": "2024-03-07T16:39:50.894241Z"
    }
   },
   "outputs": [],
   "source": [
    "if CHECK_ALL_FILES_PRESENT:\n",
    "    assert combined_detailed_df[\"h5_file_path\"].apply(lambda x: f\"../{x}\").apply(os.path.isfile).all()\n",
    "    print(\"There are no missing hdf5 files with features for slides!\")"
   ]
  },
  {
   "cell_type": "code",
   "execution_count": null,
   "metadata": {
    "ExecuteTime": {
     "end_time": "2024-03-07T16:39:51.240430Z",
     "start_time": "2024-03-07T16:39:50.897327Z"
    }
   },
   "outputs": [],
   "source": [
    "if CHECK_ALL_FILES_PRESENT:\n",
    "    assert combined_detailed_df[\"pt_file_path\"].apply(lambda x: f\"../{x}\").apply(os.path.isfile).all()\n",
    "    print(\"There are no missing pt files with features for slides!\")"
   ]
  },
  {
   "cell_type": "markdown",
   "metadata": {},
   "source": [
    "## Train (80% TCGA, 0.5 TCIA); Test (20% TCGA, 0.5 TCIA, full DHMC)\n",
    "\n",
    "In the paper, the in-house dataset was fully used for training."
   ]
  },
  {
   "cell_type": "code",
   "execution_count": null,
   "metadata": {
    "ExecuteTime": {
     "end_time": "2024-03-07T16:39:51.241906Z",
     "start_time": "2024-03-07T16:39:50.905337Z"
    }
   },
   "outputs": [],
   "source": [
    "combined_trainval_hard_df = pd.concat([tcga_detailed_labels_trainval_df, subset_tcia_cptac_detailed_labels_trainval_df])\n",
    "combined_test_hard_df = pd.concat([dhmc_detailed_labels, tcga_detailed_labels_test_df, subset_tcia_cptac_detailed_labels_test_df])\n",
    "\n",
    "set(combined_trainval_hard_df.patient_id).intersection(set(combined_test_hard_df.patient_id))"
   ]
  },
  {
   "cell_type": "code",
   "execution_count": null,
   "metadata": {
    "ExecuteTime": {
     "end_time": "2024-03-07T16:39:51.243838Z",
     "start_time": "2024-03-07T16:39:50.910534Z"
    }
   },
   "outputs": [],
   "source": [
    "print(f\"Number of slides from each site:\")\n",
    "display(combined_trainval_hard_df[\"source\"].value_counts())\n",
    "\n",
    "\n",
    "print(\"Number of slides with cancer pattern:\")\n",
    "display(combined_trainval_hard_df[LUNG_CANCER_LUAD_LUSC_BENIGN].sum(axis=0))\n",
    "\n",
    "assert len(combined_trainval_hard_df) <= combined_trainval_hard_df[LUNG_CANCER_LUAD_LUSC_BENIGN].sum().sum()\n",
    "if len(combined_trainval_hard_df) < combined_trainval_hard_df[LUNG_CANCER_LUAD_LUSC_BENIGN].sum().sum():\n",
    "    print(f\"There are {combined_trainval_hard_df[LUNG_CANCER_LUAD_LUSC_BENIGN].sum().sum() - len(combined_trainval_hard_df)} slides with 2 or more cancer types\")\n",
    "    \n",
    "\n",
    "print(\"Number of slides with each class present:\")\n",
    "display((combined_trainval_hard_df[LUNG_CANCER_LUAD_LUSC_BENIGN + list(ADENOCARCINOMA_MAIN_PATTERNS_2_LABEL_NAMES.values())] >= 1).sum())\n",
    "\n",
    "print(\"Number of slides with predominant patterns\")\n",
    "display((combined_trainval_hard_df[ADENOCARCINOMA_MAIN_PATTERNS_2_LABEL_NAMES.values()] == PREDOMINANT_CONSTANT).sum())"
   ]
  },
  {
   "cell_type": "code",
   "execution_count": null,
   "metadata": {
    "ExecuteTime": {
     "end_time": "2024-03-07T16:39:51.249560Z",
     "start_time": "2024-03-07T16:39:50.919036Z"
    }
   },
   "outputs": [],
   "source": [
    "print(f\"Number of slides from each site:\")\n",
    "display(combined_test_hard_df[\"source\"].value_counts())\n",
    "\n",
    "\n",
    "print(\"Number of slides with cancer pattern:\")\n",
    "display(combined_test_hard_df[LUNG_CANCER_LUAD_LUSC_BENIGN].sum(axis=0))\n",
    "\n",
    "assert len(combined_test_hard_df) <= combined_test_hard_df[LUNG_CANCER_LUAD_LUSC_BENIGN].sum().sum()\n",
    "if len(combined_test_hard_df) < combined_test_hard_df[LUNG_CANCER_LUAD_LUSC_BENIGN].sum().sum():\n",
    "    print(f\"There are {combined_test_hard_df[LUNG_CANCER_LUAD_LUSC_BENIGN].sum().sum() - len(combined_test_hard_df)} slides with 2 or more cancer types\")\n",
    "    \n",
    "\n",
    "print(\"Number of slides with each class present:\")\n",
    "display((combined_test_hard_df[LUNG_CANCER_LUAD_LUSC_BENIGN + list(ADENOCARCINOMA_MAIN_PATTERNS_2_LABEL_NAMES.values())] >= 1).sum())\n",
    "\n",
    "print(\"Number of slides with predominant patterns\")\n",
    "display((combined_test_hard_df[ADENOCARCINOMA_MAIN_PATTERNS_2_LABEL_NAMES.values()] == PREDOMINANT_CONSTANT).sum())"
   ]
  },
  {
   "cell_type": "code",
   "execution_count": null,
   "metadata": {
    "ExecuteTime": {
     "end_time": "2024-03-07T16:39:51.258120Z",
     "start_time": "2024-03-07T16:39:50.926909Z"
    }
   },
   "outputs": [],
   "source": [
    "combined_trainval_hard_df.to_csv(f'{experiment_label_files_dir}/DETAILED_COMBINED_HARD_TRAINVAL_LUAD_LUSC_BENIGN.csv', index=False)\n",
    "combined_test_hard_df.to_csv(f'{experiment_label_files_dir}/DETAILED_COMBINED_HARD_TEST_LUAD_LUSC_BENIGN.csv', index=False)"
   ]
  },
  {
   "cell_type": "markdown",
   "metadata": {},
   "source": [
    "### Make a versino by dropping rows with all patterns having -1 (i.e. unknown patttern presence)"
   ]
  },
  {
   "cell_type": "code",
   "execution_count": null,
   "metadata": {
    "ExecuteTime": {
     "end_time": "2024-03-07T16:39:51.262690Z",
     "start_time": "2024-03-07T16:39:50.943214Z"
    }
   },
   "outputs": [],
   "source": [
    "combined_trainval_hard_df = pd.read_csv(f'{experiment_label_files_dir}/DETAILED_COMBINED_HARD_TRAINVAL_LUAD_LUSC_BENIGN.csv')\n",
    "combined_test_hard_df = pd.read_csv(f'{experiment_label_files_dir}/DETAILED_COMBINED_HARD_TEST_LUAD_LUSC_BENIGN.csv')"
   ]
  },
  {
   "cell_type": "code",
   "execution_count": null,
   "metadata": {
    "ExecuteTime": {
     "end_time": "2024-03-07T16:39:51.266111Z",
     "start_time": "2024-03-07T16:39:50.962761Z"
    }
   },
   "outputs": [],
   "source": [
    "combined_trainval_hard_at_least_one_known_pattern_df = combined_trainval_hard_df[(combined_trainval_hard_df == -1).sum(axis=1) < 5].reset_index(drop=True)\n",
    "combined_test_hard_at_least_one_known_pattern_df = combined_test_hard_df[(combined_test_hard_df == -1).sum(axis=1) < 5].reset_index(drop=True)"
   ]
  },
  {
   "cell_type": "code",
   "execution_count": null,
   "metadata": {
    "ExecuteTime": {
     "end_time": "2024-03-07T16:39:51.268201Z",
     "start_time": "2024-03-07T16:39:50.964775Z"
    }
   },
   "outputs": [],
   "source": [
    "print(\"Dropped rows with no patterns info:\", len(combined_trainval_hard_df) - len(combined_trainval_hard_at_least_one_known_pattern_df))\n",
    "print(\"Dropped rows with no patterns info:\", len(combined_test_hard_df) - len(combined_test_hard_at_least_one_known_pattern_df))"
   ]
  },
  {
   "cell_type": "code",
   "execution_count": null,
   "metadata": {
    "ExecuteTime": {
     "end_time": "2024-03-07T16:39:51.271307Z",
     "start_time": "2024-03-07T16:39:50.967205Z"
    }
   },
   "outputs": [],
   "source": [
    "combined_trainval_hard_at_least_one_known_pattern_df.to_csv(f'{experiment_label_files_dir}/DETAILED_COMBINED_HARD_TRAINVAL_LUAD_LUSC_BENIGN_AT_LEAST_ONE_KNOWN_PATTERN.csv', index=False)\n",
    "combined_test_hard_at_least_one_known_pattern_df.to_csv(f'{experiment_label_files_dir}/DETAILED_COMBINED_HARD_TEST_LUAD_LUSC_BENIGN_AT_LEAST_ONE_KNOWN_PATTERN.csv', index=False)"
   ]
  },
  {
   "cell_type": "code",
   "execution_count": null,
   "metadata": {
    "ExecuteTime": {
     "end_time": "2024-03-07T16:39:51.272627Z",
     "start_time": "2024-03-07T16:39:50.988799Z"
    }
   },
   "outputs": [],
   "source": [
    "print(f\"Number of slides from each site:\")\n",
    "display(combined_trainval_hard_at_least_one_known_pattern_df[\"source\"].value_counts())\n",
    "\n",
    "\n",
    "print(\"Number of slides with cancer pattern:\")\n",
    "display(combined_trainval_hard_at_least_one_known_pattern_df[LUNG_CANCER_LUAD_LUSC_BENIGN].sum(axis=0))\n",
    "\n",
    "assert len(combined_trainval_hard_at_least_one_known_pattern_df) <= combined_trainval_hard_at_least_one_known_pattern_df[LUNG_CANCER_LUAD_LUSC_BENIGN].sum().sum()\n",
    "if len(combined_trainval_hard_at_least_one_known_pattern_df) < combined_trainval_hard_at_least_one_known_pattern_df[LUNG_CANCER_LUAD_LUSC_BENIGN].sum().sum():\n",
    "    print(f\"There are {combined_trainval_hard_at_least_one_known_pattern_df[LUNG_CANCER_LUAD_LUSC_BENIGN].sum().sum() - len(combined_trainval_hard_at_least_one_known_pattern_df)} slides with 2 or more cancer types\")\n",
    "    \n",
    "\n",
    "print(\"Number of slides with each class present:\")\n",
    "display((combined_trainval_hard_at_least_one_known_pattern_df[LUNG_CANCER_LUAD_LUSC_BENIGN + list(ADENOCARCINOMA_MAIN_PATTERNS_2_LABEL_NAMES.values())] >= 1).sum())\n",
    "\n",
    "print(\"Number of slides with predominant patterns\")\n",
    "display((combined_trainval_hard_at_least_one_known_pattern_df[ADENOCARCINOMA_MAIN_PATTERNS_2_LABEL_NAMES.values()] == PREDOMINANT_CONSTANT).sum())"
   ]
  },
  {
   "cell_type": "code",
   "execution_count": null,
   "metadata": {
    "ExecuteTime": {
     "end_time": "2024-03-07T16:39:51.286153Z",
     "start_time": "2024-03-07T16:39:50.998323Z"
    }
   },
   "outputs": [],
   "source": [
    "print(f\"Number of slides from each site:\")\n",
    "display(combined_test_hard_at_least_one_known_pattern_df[\"source\"].value_counts())\n",
    "\n",
    "\n",
    "print(\"Number of slides with cancer pattern:\")\n",
    "display(combined_test_hard_at_least_one_known_pattern_df[LUNG_CANCER_LUAD_LUSC_BENIGN].sum(axis=0))\n",
    "\n",
    "assert len(combined_test_hard_at_least_one_known_pattern_df) <= combined_test_hard_at_least_one_known_pattern_df[LUNG_CANCER_LUAD_LUSC_BENIGN].sum().sum()\n",
    "if len(combined_test_hard_at_least_one_known_pattern_df) < combined_test_hard_at_least_one_known_pattern_df[LUNG_CANCER_LUAD_LUSC_BENIGN].sum().sum():\n",
    "    print(f\"There are {combined_test_hard_at_least_one_known_pattern_df[LUNG_CANCER_LUAD_LUSC_BENIGN].sum().sum() - len(combined_test_hard_at_least_one_known_pattern_df)} slides with 2 or more cancer types\")\n",
    "    \n",
    "\n",
    "print(\"Number of slides with each class present:\")\n",
    "display((combined_test_hard_at_least_one_known_pattern_df[LUNG_CANCER_LUAD_LUSC_BENIGN + list(ADENOCARCINOMA_MAIN_PATTERNS_2_LABEL_NAMES.values())] >= 1).sum())\n",
    "\n",
    "print(\"Number of slides with predominant patterns\")\n",
    "display((combined_test_hard_at_least_one_known_pattern_df[ADENOCARCINOMA_MAIN_PATTERNS_2_LABEL_NAMES.values()] == PREDOMINANT_CONSTANT).sum())"
   ]
  },
  {
   "cell_type": "code",
   "execution_count": null,
   "metadata": {
    "ExecuteTime": {
     "end_time": "2024-03-07T16:39:51.287444Z",
     "start_time": "2024-03-07T16:39:51.006597Z"
    }
   },
   "outputs": [],
   "source": []
  }
 ],
 "metadata": {
  "kernelspec": {
   "display_name": "dsmil",
   "language": "python",
   "name": "python3"
  },
  "language_info": {
   "codemirror_mode": {
    "name": "ipython",
    "version": 3
   },
   "file_extension": ".py",
   "mimetype": "text/x-python",
   "name": "python",
   "nbconvert_exporter": "python",
   "pygments_lexer": "ipython3",
   "version": "3.11.5"
  },
  "orig_nbformat": 4,
  "vscode": {
   "interpreter": {
    "hash": "ab2a4646a7a0965c3727c5f75f673e4dd86106a4827bc0811345ed15684e9050"
   }
  }
 },
 "nbformat": 4,
 "nbformat_minor": 2
}
